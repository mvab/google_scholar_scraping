{
 "cells": [
  {
   "cell_type": "code",
   "execution_count": 11,
   "metadata": {},
   "outputs": [
    {
     "name": "stdout",
     "output_type": "stream",
     "text": [
      "https://scholar.google.com/scholar?start=20&q=mendelian+randomization&hl=en&as_sdt=2005&sciodt=0,5&cites=6613969377995102680&scipsc=1\n"
     ]
    }
   ],
   "source": [
    "from bs4 import BeautifulSoup\n",
    "import requests\n",
    "\n",
    "# get header: http://myhttpheader.com/\n",
    "headers = {'User-Agent':\n",
    "             'Mozilla/5.0 (Macintosh; Intel Mac OS X 10_15_7) AppleWebKit/537.36 (KHTML, like Gecko) Chrome/92.0.4515.115 Safari/537.36',\n",
    "           'Accept': \n",
    "             'text/html,application/xhtml+xml,application/xml;q=0.9,image/avif,image/webp,image/apng,*/*;q=0.8,application/signed-exchange;v=b3;q=0.9',\n",
    "           'Accept-Encoding':\n",
    "             'gzip, deflate',\n",
    "           'Accept-Language':\n",
    "             'en-GB,en-US;q=0.9,en;q=0.8',\n",
    "           'Referer': \n",
    "              'https://www.google.co.uk',\n",
    "           'Upgrade-Insecure-Requests': \n",
    "             '1'}\n",
    "\n",
    "i=40\n",
    "#url = 'https://scholar.google.com/scholar?start={}&q=mendelian+randomization&hl=en&as_sdt=2005&sciodt=0,5&cites=6613969377995102680&scipsc=1'.format(i)\n",
    "url='https://scholar.google.com/scholar?start=20&q=mendelian+randomization&hl=en&as_sdt=2005&sciodt=0,5&cites=6613969377995102680&scipsc=1'\n",
    "\n",
    "# MRz\n",
    "#url='https://scholar.google.com/scholar?start=20&q=mendelian+randomization&hl=en&as_sdt=2005&sciodt=0,5&cites=6613969377995102680&scipsc=1'\n",
    "# MRs\n",
    "#url ='https://scholar.google.com/scholar?start=20&q=mendelian+randomisation&hl=en&as_sdt=2005&sciodt=0,5&cites=6613969377995102680&scipsc=1'\n",
    "# BC\n",
    "#url ='https://scholar.google.com/scholar?start=20&q=breast+cancer&hl=en&as_sdt=2005&sciodt=0,5&cites=6613969377995102680&scipsc=1'\n",
    "#n = 845 #citations total ; ~ < 250 for MR papers\n",
    "\n",
    "print(url)\n",
    "response=requests.get(url,headers=headers)\n",
    "soup=BeautifulSoup(response.content,'lxml')"
   ]
  },
  {
   "cell_type": "code",
   "execution_count": 12,
   "metadata": {},
   "outputs": [
    {
     "data": {
      "text/plain": [
       "<!DOCTYPE html PUBLIC \"-//W3C//DTD HTML 4.01 Transitional//EN\">\n",
       "<html>\n",
       "<head><meta content=\"text/html; charset=utf-8\" http-equiv=\"content-type\"/><meta content=\"initial-scale=1\" name=\"viewport\"/><title>https://scholar.google.com/scholar?start=20&amp;q=mendelian+randomization&amp;hl=en&amp;as_sdt=2005&amp;sciodt=0,5&amp;cites=6613969377995102680&amp;scipsc=1</title></head>\n",
       "<body onload=\"e=document.getElementById('captcha');if(e){e.focus();} if(solveSimpleChallenge) {solveSimpleChallenge(,);}\" style=\"font-family: arial, sans-serif; background-color: #fff; color: #000; padding:20px; font-size:18px;\">\n",
       "<div style=\"max-width:400px;\">\n",
       "<hr noshade=\"\" size=\"1\" style=\"color:#ccc; background-color:#ccc;\"/><br/>\n",
       "<form action=\"index\" id=\"captcha-form\" method=\"post\">\n",
       "<noscript>\n",
       "<div style=\"font-size:13px;\">\n",
       "  In order to continue, please enable javascript on your web browser.\n",
       "</div>\n",
       "</noscript>\n",
       "<script async=\"\" defer=\"\" src=\"https://www.google.com/recaptcha/api.js\"></script>\n",
       "<script>var submitCallback = function(response) {document.getElementById('captcha-form').submit();};</script>\n",
       "<div class=\"g-recaptcha\" data-callback=\"submitCallback\" data-s=\"ifuJzYX4WF-acBwLR-4KVRk6LGmw45pq8J9JmWdovJlBWdaeBR-h-oNW6RJ2hyOHIUcIVepdwYN8COL7M7F_r-iv_ZcORYCGxKjynTfdW5t1Y3RhRdCqXfJJJkYGExPqwpzf62iOivw_VsL3KTjvnVaz7OjDKbGJozAlsbqtbh6EhvMm0whC3InrLiMGgJFENIFX-JtW09720bAKrAXeoIgtQBt5IGbxeMYJvDo\" data-sitekey=\"6LfwuyUTAAAAAOAmoS0fdqijC2PbbdH4kjq62Y1b\" id=\"recaptcha\"></div>\n",
       "<input name=\"q\" type=\"hidden\" value=\"EgRRsqN5GJG5m5AGIhCl3femOV_Eci6PG5BvBPBbMgFy\"/><input name=\"continue\" type=\"hidden\" value=\"https://scholar.google.com/scholar?start=20&amp;q=mendelian+randomization&amp;hl=en&amp;as_sdt=2005&amp;sciodt=0,5&amp;cites=6613969377995102680&amp;scipsc=1\"/>\n",
       "</form>\n",
       "<hr noshade=\"\" size=\"1\" style=\"color:#ccc; background-color:#ccc;\"/>\n",
       "<div style=\"font-size:13px;\">\n",
       "<b>About this page</b><br/><br/>\n",
       "\n",
       "Our systems have detected unusual traffic from your computer network.  This page checks to see if it's really you sending the requests, and not a robot.  <a href=\"#\" onclick=\"document.getElementById('infoDiv').style.display='block';\">Why did this happen?</a><br/><br/>\n",
       "<div id=\"infoDiv\" style=\"display:none; background-color:#eee; padding:10px; margin:0 0 15px 0; line-height:1.4em;\">\n",
       "This page appears when Google automatically detects requests coming from your computer network which appear to be in violation of the <a href=\"//www.google.com/policies/terms/\">Terms of Service</a>. The block will expire shortly after those requests stop.  In the meantime, solving the above CAPTCHA will let you continue to use our services.<br/><br/>This traffic may have been sent by malicious software, a browser plug-in, or a script that sends automated requests.  If you share your network connection, ask your administrator for help — a different computer using the same IP address may be responsible.  <a href=\"//support.google.com/websearch/answer/86640\">Learn more</a><br/><br/>Sometimes you may be asked to solve the CAPTCHA if you are using advanced terms that robots are known to use, or sending requests very quickly.\n",
       "</div>\n",
       "\n",
       "IP address: 81.178.163.121<br/>Time: 2022-02-11T22:00:49Z<br/>URL: https://scholar.google.com/scholar?start=20&amp;q=mendelian+randomization&amp;hl=en&amp;as_sdt=2005&amp;sciodt=0,5&amp;cites=6613969377995102680&amp;scipsc=1<br/>\n",
       "</div>\n",
       "</div>\n",
       "</body>\n",
       "</html>"
      ]
     },
     "execution_count": 12,
     "metadata": {},
     "output_type": "execute_result"
    }
   ],
   "source": [
    "soup"
   ]
  },
  {
   "cell_type": "code",
   "execution_count": 23,
   "metadata": {},
   "outputs": [
    {
     "name": "stdout",
     "output_type": "stream",
     "text": [
      "https://scholar.google.com/scholar?start=0&hl=en&as_sdt=2005&sciodt=0,5&cites=6613969377995102680&scipsc=\n",
      "https://scholar.google.com/scholar?start=10&hl=en&as_sdt=2005&sciodt=0,5&cites=6613969377995102680&scipsc=\n",
      "https://scholar.google.com/scholar?start=20&hl=en&as_sdt=2005&sciodt=0,5&cites=6613969377995102680&scipsc=\n",
      "https://scholar.google.com/scholar?start=30&hl=en&as_sdt=2005&sciodt=0,5&cites=6613969377995102680&scipsc=\n",
      "https://scholar.google.com/scholar?start=40&hl=en&as_sdt=2005&sciodt=0,5&cites=6613969377995102680&scipsc=\n",
      "https://scholar.google.com/scholar?start=50&hl=en&as_sdt=2005&sciodt=0,5&cites=6613969377995102680&scipsc=\n",
      "https://scholar.google.com/scholar?start=60&hl=en&as_sdt=2005&sciodt=0,5&cites=6613969377995102680&scipsc=\n",
      "https://scholar.google.com/scholar?start=70&hl=en&as_sdt=2005&sciodt=0,5&cites=6613969377995102680&scipsc=\n",
      "https://scholar.google.com/scholar?start=80&hl=en&as_sdt=2005&sciodt=0,5&cites=6613969377995102680&scipsc=\n",
      "https://scholar.google.com/scholar?start=90&hl=en&as_sdt=2005&sciodt=0,5&cites=6613969377995102680&scipsc=\n"
     ]
    }
   ],
   "source": [
    "for i in range(0, 100, 10):\n",
    "    url = \"https://scholar.google.com/scholar?start={}&hl=en&as_sdt=2005&sciodt=0,5&cites=6613969377995102680&scipsc=\".format(i)\n",
    "    print(url)"
   ]
  },
  {
   "cell_type": "markdown",
   "metadata": {},
   "source": []
  },
  {
   "cell_type": "code",
   "execution_count": null,
   "metadata": {},
   "outputs": [],
   "source": []
  },
  {
   "cell_type": "code",
   "execution_count": null,
   "metadata": {},
   "outputs": [],
   "source": [
    "# html viewer: https://www.10bestdesign.com/dirtymarkup/"
   ]
  },
  {
   "cell_type": "code",
   "execution_count": 6,
   "metadata": {},
   "outputs": [
    {
     "name": "stdout",
     "output_type": "stream",
     "text": [
      "[]\n"
     ]
    }
   ],
   "source": [
    "print(soup.select('[data-lid]'))"
   ]
  },
  {
   "cell_type": "code",
   "execution_count": 2,
   "metadata": {},
   "outputs": [],
   "source": [
    "#print(soup.select('[data-lid]'))\n",
    "for item in soup.select('[data-lid]'):\n",
    "    try:\n",
    "        print('----------------------------------------')\n",
    "        print(item)\n",
    "\n",
    "    except Exception as e:\n",
    "        #raise e\n",
    "        print('')"
   ]
  },
  {
   "cell_type": "code",
   "execution_count": 20,
   "metadata": {},
   "outputs": [],
   "source": []
  },
  {
   "cell_type": "code",
   "execution_count": 4,
   "metadata": {},
   "outputs": [
    {
     "name": "stdout",
     "output_type": "stream",
     "text": [
      "----------------------------------------\n",
      "[HTML][HTML] Body mass index and type 2 diabetes and breast cancer survival: a Mendelian randomization study\n",
      "https://www.ncbi.nlm.nih.gov/pmc/articles/pmc8414374/\n",
      "… In this two-sample Mendelian randomization (MR) study, the instrumental variables (IVs) were \n",
      "identified using a genome-wide association … Sensitivity analyses, including the weighted-median \n",
      "approach, MR-Egger regression, Radial regression and Mendelian randomization …\n",
      "YS Liu, PE Wu, WC Chou, R Vikram… - American journal of …, 2021 - ncbi.nlm.nih.gov\n",
      "----------------------------------------\n",
      "----------------------------------------\n",
      "Serum estradiol and 20 Site-specific cancers in women: Mendelian Randomization Study\n",
      "https://academic.oup.com/jcem/article/107/2/e467/6380627\n",
      "Context The causal role of endogenous estradiol in cancers other than breast and endometrial \n",
      "cancer remains unclear. Objective This Mendelian randomization study assessed the causal \n",
      "associations of endogenous 17β-estradiol (E2), the most potent estrogen, with cancer …\n",
      "SC Larsson, S Kar, JRB Perry, P Carter… - The Journal of …, 2022 - academic.oup.com\n",
      "----------------------------------------\n",
      "----------------------------------------\n",
      "[HTML][HTML] Genetically proxied therapeutic inhibition of antihypertensive drug targets and risk of common cancers: A mendelian randomization analysis\n",
      "https://journals.plos.org/PLoSmedicine/article?id=10.1371/journal.pmed.1003897\n",
      "… We performed a mendelian randomization analysis to examine the association between \n",
      "genetically proxied inhibition of 3 … mendelian randomization and colocalization analyses \n",
      "were employed to examine robustness of findings to violations of mendelian randomization …\n",
      "J Yarmolinsky, V Díez-Obrero, TG Richardson… - PLoS …, 2022 - journals.plos.org\n",
      "----------------------------------------\n",
      "----------------------------------------\n",
      "Investigating causal relationships between sleep traits and risk of breast cancer: a Mendelian randomization study\n",
      "https://www.bmj.com/sites/default/files/attachments/bmj-article/pre-pub-history/original_article12.12.18.pdf\n",
      "… We conducted a two-sample Mendelian randomization analysis of sleep traits using: i) \n",
      "femalespecific estimates of the associations between the genetic instruments identified in the \n",
      "respective GWAS (16-18) in relation to chronotype (5-level ordinal variable), sleep duration …\n",
      "K Straif, D Lawlor, MIE Unit - 2018 - bmj.com\n",
      "----------------------------------------\n",
      "----------------------------------------\n",
      "Causal effects of lifetime smoking on breast and colorectal cancer risk: Mendelian randomization study\n",
      "https://cebp.aacrjournals.org/content/cebp/30/5/953.full.pdf\n",
      "… We used Mendelian randomization (MR) to examine causal associations between smoking \n",
      "and risks of breast and colorectal cancer. … Mendelian randomization (MR) is an increasingly \n",
      "used analytic method to investigate causal inference between a given exposure and outcome…\n",
      "N Dimou, J Yarmolinsky, E Bouras, KK Tsilidis… - Cancer Epidemiology …, 2021 - AACR\n",
      "----------------------------------------\n",
      "----------------------------------------\n",
      "Body fat distribution and risk of breast, endometrial, and ovarian cancer: a two-sample mendelian randomization study\n",
      "https://www.mdpi.com/2072-6694/13/20/5053/pdf\n",
      "… For the first time we used a two-sample multivariable Mendelian randomization (MR) \n",
      "approach to elucidate the role and causal relations of body composition assessed by segmental \n",
      "bioelectrical impedance analysis on the risks of breast, endometrial and ovarian cancers and …\n",
      "D Freuer, J Linseisen, TA O'Mara, M Leitzmann… - Cancers, 2021 - mdpi.com\n",
      "----------------------------------------\n",
      "----------------------------------------\n",
      "[HTML][HTML] Smoking, alcohol consumption, and cancer: A mendelian randomisation study in UK Biobank and international genetic consortia participants\n",
      "https://journals.plos.org/plosmedicine/article?id=10.1371/journal.pmed.1003178\n",
      "Background Smoking is a well-established cause of lung cancer and there is strong \n",
      "evidence that smoking also increases the risk of several other cancers. Alcohol consumption \n",
      "has been inconsistently associated with cancer risk in observational studies. This mendelian …\n",
      "SC Larsson, P Carter, S Kar, M Vithayathil… - PLoS …, 2020 - journals.plos.org\n",
      "----------------------------------------\n",
      "----------------------------------------\n",
      "The impact of personality on the risk and survival of breast cancer: a Mendelian randomization analysis\n",
      "https://www.cambridge.org/core/journals/psychological-medicine/article/impact-of-personality-on-the-risk-and-survival-of-breast-cancer-a-mendelian-randomization-analysis/D97A366A13C7E352B1EF88B893D26032\n",
      "… We used two-sample Mendelian randomization analysis to estimate the impact of personality \n",
      "on the risk and survival of BC. In total, 109 single nucleotide polymorphisms (SNPs) were \n",
      "utilized as instruments of neuroticism from a large-scale Genome-Wide Association Studies (…\n",
      "L Ying, S Chen, L Li, Z Pan - Psychological Medicine, 2021 - cambridge.org\n",
      "----------------------------------------\n",
      "----------------------------------------\n",
      "Insulin-like growth factor-1 and site-specific cancers: A Mendelian randomization study.\n",
      "https://www.repository.cam.ac.uk/bitstream/handle/1810/307972/cam4.3345.pdf?sequence=4\n",
      "… Mendelian randomization (MR) is a method to evaluate causality by exploiting genetic … \n",
      "-sample summary Mendelian randomization analyses. Int J Epidemiol. 2019;48(3):684-690. … \n",
      "MendelianRandomization: an R package for performing Mendelian randomization analyses …\n",
      "S Burgess - 2020 - repository.cam.ac.uk\n",
      "----------------------------------------\n",
      "----------------------------------------\n",
      "[HTML][HTML] Assessing the causal role of epigenetic clocks in the development of multiple cancers: a Mendelian randomization study\n",
      "https://www.medrxiv.org/content/10.1101/2021.11.29.21266984.abstract\n",
      "… Methods: We conducted a two-sample Mendelian randomization (MR) study to examine \n",
      "the genetically predicted effects of epigenetic age acceleration as measured by HannumAge \n",
      "(9 single-nucleotide polymorphisms (SNPs)), Horvath Intrinsic Age (24 SNPs), PhenoAge (11 …\n",
      "FM Berstein, DL McCartney, AT Lu, KK Tsilidis… - medRxiv, 2021 - medrxiv.org\n",
      "----------------------------------------\n"
     ]
    }
   ],
   "source": [
    "# other data\n",
    "\n",
    "for item in soup.select('[data-lid]'):\n",
    "    try:\n",
    "        print('----------------------------------------')\n",
    "        #print(item)\n",
    "        print(item.select('h3')[0].get_text()) # title\n",
    "        print(item.select('a')[0]['href']) # link\n",
    "        print(item.select('.gs_rs')[0].get_text()) # shown abstarct\n",
    "        print(item.select('.gs_a')[0].get_text()) # shown abstarct\n",
    "        print('----------------------------------------')\n",
    "    except Exception as e:\n",
    "        #raise e \n",
    "        print('')"
   ]
  },
  {
   "cell_type": "code",
   "execution_count": 27,
   "metadata": {},
   "outputs": [
    {
     "name": "stdout",
     "output_type": "stream",
     "text": [
      "['KE Johnson, KM Siewert, D Klarin, SM Damrauer…', 'bioRxiv, 2019', 'biorxiv.org']\n"
     ]
    },
    {
     "data": {
      "text/plain": [
       "['bioRxiv', '2019', 'KE Johnson', 'biorxiv.org']"
      ]
     },
     "execution_count": 27,
     "metadata": {},
     "output_type": "execute_result"
    }
   ],
   "source": [
    "x = 'KE Johnson, KM Siewert, D Klarin, SM Damrauer… - bioRxiv, 2019 - biorxiv.org'\n",
    "\n",
    "\n",
    "info_split = x.split(\" - \")\n",
    "first_author = [info_split[0].split(\", \")[0]]\n",
    "journal = info_split[1].split(\", \")\n",
    "if len(journal) == 2:\n",
    "    journal_name = [journal[0]]\n",
    "    journal_year = [journal[1]]\n",
    "else:\n",
    "    journal_year = [journal[0]]\n",
    "    journal_Name = None\n",
    "website = [info_split[2]]\n",
    "print(info_split)\n",
    "\n",
    "merged = [*journal_name, *journal_year , *first_author, *website]\n",
    "merged"
   ]
  },
  {
   "cell_type": "code",
   "execution_count": 33,
   "metadata": {},
   "outputs": [
    {
     "name": "stdout",
     "output_type": "stream",
     "text": [
      "['S Burgess', '2020', 'repository.cam.ac.uk']\n"
     ]
    },
    {
     "ename": "NameError",
     "evalue": "name 'title' is not defined",
     "output_type": "error",
     "traceback": [
      "\u001b[0;31m---------------------------------------------------------------------------\u001b[0m",
      "\u001b[0;31mNameError\u001b[0m                                 Traceback (most recent call last)",
      "\u001b[0;32m<ipython-input-33-609ab4d1ebf9>\u001b[0m in \u001b[0;36m<module>\u001b[0;34m\u001b[0m\n\u001b[1;32m     13\u001b[0m \u001b[0mprint\u001b[0m\u001b[0;34m(\u001b[0m\u001b[0minfo_split\u001b[0m\u001b[0;34m)\u001b[0m\u001b[0;34m\u001b[0m\u001b[0;34m\u001b[0m\u001b[0m\n\u001b[1;32m     14\u001b[0m \u001b[0;34m\u001b[0m\u001b[0m\n\u001b[0;32m---> 15\u001b[0;31m \u001b[0mmerged\u001b[0m \u001b[0;34m=\u001b[0m \u001b[0;34m[\u001b[0m\u001b[0;34m*\u001b[0m\u001b[0mtitle\u001b[0m\u001b[0;34m,\u001b[0m \u001b[0;34m*\u001b[0m\u001b[0mjournal_year\u001b[0m \u001b[0;34m,\u001b[0m \u001b[0;34m*\u001b[0m\u001b[0mfirst_author\u001b[0m\u001b[0;34m,\u001b[0m \u001b[0;34m*\u001b[0m\u001b[0mwebsite\u001b[0m \u001b[0;34m*\u001b[0m\u001b[0mjournal_name\u001b[0m\u001b[0;34m,\u001b[0m \u001b[0;34m*\u001b[0m\u001b[0mlink\u001b[0m\u001b[0;34m]\u001b[0m\u001b[0;34m\u001b[0m\u001b[0;34m\u001b[0m\u001b[0m\n\u001b[0m\u001b[1;32m     16\u001b[0m \u001b[0mmerged\u001b[0m\u001b[0;34m\u001b[0m\u001b[0;34m\u001b[0m\u001b[0m\n\u001b[1;32m     17\u001b[0m \u001b[0;34m\u001b[0m\u001b[0m\n",
      "\u001b[0;31mNameError\u001b[0m: name 'title' is not defined"
     ]
    }
   ],
   "source": [
    "x= \"S Burgess - 2020 - repository.cam.ac.uk\"\n",
    "\n",
    "info_split = x.split(\" - \")\n",
    "first_author = [info_split[0].split(\", \")[0]]\n",
    "journal = info_split[1].split(\", \")\n",
    "if len(journal) == 2:\n",
    "    journal_name = [journal[0]]\n",
    "    journal_year = [journal[1]]\n",
    "else:\n",
    "    journal_year = [journal[0]]\n",
    "    journal_name = [None]\n",
    "website = [info_split[2]]\n",
    "print(info_split)\n",
    "\n",
    "article = [*title, *journal_year , *first_author, *website *journal_name, *link]\n",
    "article = [x.strip(' ') for x in article]\n",
    "article = [x.replace('\\xa0', \"\") for x in article]\n",
    "\n"
   ]
  },
  {
   "cell_type": "code",
   "execution_count": 88,
   "metadata": {},
   "outputs": [
    {
     "name": "stdout",
     "output_type": "stream",
     "text": [
      "['Association of a polygenic risk score with breast cancer among women carriers of high-and moderate-risk breast cancer genes', '2020', 'S Gallagher', 'jamanetwork.com', 'JAMA network…', 'https://jamanetwork.com/journals/jamanetworkopen/fullarticle/2767768']\n",
      "--\n",
      "['Recent advances in breast cancer research impacting clinical diagnostic practice', '2019', 'AE McCart Reed', 'Wiley Online Library', 'The Journal of…', 'https://onlinelibrary.wiley.com/doi/pdf/10.1002/path.5199']\n",
      "--\n",
      "['Towards prevention of breast cancer: what are the clinical challenges?', '2018', 'S Borgquist', 'AACR', 'Cancer Prevention Research', 'https://cancerpreventionresearch.aacrjournals.org/content/canprevres/11/5/255.full.pdf']\n",
      "--\n",
      "['Trends of female and male breast cancer incidence at the global, regional, and national levels, 1990–2017', '2020', 'Z Chen', 'Springer', 'Breast cancer research…', 'https://www.researchgate.net/profile/Wenjie-Shi-6/publication/339247015_Trends_of_female_and_male_breast_cancer_incidence_at_the_global_regional_and_national_levels_1990-2017/links/60b7bb07a6fdcc476be4e90f/Trends-of-female-and-male-breast-cancer-incidence-at-the-global-regional-and-national-levels-1990-2017.pdf']\n",
      "--\n",
      "['Breast cancer risk model requirements for counseling, prevention, and screening', '2018', 'MH Gail', 'academic.oup.com', 'JNCI: Journal of the National Cancer…', 'https://academic.oup.com/jnci/article/110/9/994/4912416']\n",
      "--\n",
      "['Phenotypic and molecular dissection of metaplastic breast cancer and the prognostic implications', '2019', 'AE McCart Reed', 'Wiley Online Library', 'The Journal of…', 'https://minerva-access.unimelb.edu.au/bitstream/handle/11343/284674/https%20onlinelibrary.wiley.com%20doi%20am-pdf%2010.1002%20path.5184.pdf?sequence=1&isAllowed=y']\n",
      "--\n",
      "[\"[HTML][HTML] 'Omics approaches to explore the breast cancer landscape\", '2020', 'J Parsons', 'frontiersin.org', 'Frontiers in cell and developmental biology', 'https://www.frontiersin.org/articles/10.3389/fcell.2019.00395/full']\n",
      "--\n",
      "['Blood DNA methylation and breast cancer: a prospective case-cohort analysis in the sister study', '2020', 'Z Xu', 'academic.oup.com', '…: Journal of the National Cancer…', 'https://www.ncbi.nlm.nih.gov/pmc/articles/PMC7489106/']\n",
      "--\n",
      "['[HTML][HTML] Risk, prediction and prevention of hereditary breast cancer–large-scale genomic studies in times of big and smart data', 'Geburtshilfe und…', '2018', 'thieme', 'connect.com', 'https://www.thieme-connect.com/products/ejournals/html/10.1055/a-0603-4350']\n",
      "--\n",
      "['[HTML][HTML] A framework for transcriptome-wide association studies in breast cancer in diverse study populations', 'Closas', 'AF Olshan…', 'Genome biology, 2020', 'Springer', 'https://link.springer.com/article/10.1186/s13059-020-1942-6']\n",
      "--\n"
     ]
    }
   ],
   "source": [
    "for item in soup.select('[data-lid]'):\n",
    "        try:\n",
    "            # extarct from HTML\n",
    "            title = [item.select('h3')[0].get_text()]\n",
    "            link = [item.select('a')[0]['href']]\n",
    "            abstract = [item.select('.gs_rs')[0].get_text()]\n",
    "            info = item.select('.gs_a')[0].get_text()\n",
    "            \n",
    "            # parse info\n",
    "            info_split = info.split(\"-\")\n",
    "            journal_year = info_split[1].split(\", \")\n",
    "            first_author = [info_split[0].split(\", \")[0]]\n",
    "        \n",
    "            info_list = [*info_split, *journal_year , *first_author]\n",
    "            info_list = [x.strip(' ') for x in info_list]\n",
    "            info_list = [x.replace('\\xa0', \"\") for x in info_list]\n",
    "            article = [*title, info_list[4], info_list[5], info_list[2], info_list[3],  *link]\n",
    "            \n",
    "            \n",
    "            print(article)\n",
    "            print(\"--\")\n",
    "            #article = [*title, *info_list[4], *first_author]\n",
    "            \n",
    "            #print(article)\n",
    "            \n",
    "        except Exception as e:\n",
    "            #raise e \n",
    "            print('==cant parse this soup')"
   ]
  },
  {
   "cell_type": "code",
   "execution_count": 90,
   "metadata": {},
   "outputs": [],
   "source": [
    "x = ['Association of a polygenic risk score with breast cancer among women carriers of high-and moderate-risk breast cancer genes', '2020', 'S Gallagher', 'jamanetwork.com', 'JAMA network…', 'https://jamanetwork.com/journals/jamanetworkopen/fullarticle/2767768']"
   ]
  },
  {
   "cell_type": "code",
   "execution_count": 105,
   "metadata": {},
   "outputs": [
    {
     "data": {
      "text/html": [
       "<div>\n",
       "<style scoped>\n",
       "    .dataframe tbody tr th:only-of-type {\n",
       "        vertical-align: middle;\n",
       "    }\n",
       "\n",
       "    .dataframe tbody tr th {\n",
       "        vertical-align: top;\n",
       "    }\n",
       "\n",
       "    .dataframe thead th {\n",
       "        text-align: right;\n",
       "    }\n",
       "</style>\n",
       "<table border=\"1\" class=\"dataframe\">\n",
       "  <thead>\n",
       "    <tr style=\"text-align: right;\">\n",
       "      <th></th>\n",
       "      <th>0</th>\n",
       "      <th>first_author</th>\n",
       "      <th>link</th>\n",
       "      <th>source_name</th>\n",
       "      <th>source_site</th>\n",
       "      <th>title</th>\n",
       "      <th>year</th>\n",
       "    </tr>\n",
       "  </thead>\n",
       "  <tbody>\n",
       "    <tr>\n",
       "      <th>0</th>\n",
       "      <td>Association of a polygenic risk score with bre...</td>\n",
       "      <td>NaN</td>\n",
       "      <td>NaN</td>\n",
       "      <td>NaN</td>\n",
       "      <td>NaN</td>\n",
       "      <td>NaN</td>\n",
       "      <td>NaN</td>\n",
       "    </tr>\n",
       "    <tr>\n",
       "      <th>1</th>\n",
       "      <td>2020</td>\n",
       "      <td>NaN</td>\n",
       "      <td>NaN</td>\n",
       "      <td>NaN</td>\n",
       "      <td>NaN</td>\n",
       "      <td>NaN</td>\n",
       "      <td>NaN</td>\n",
       "    </tr>\n",
       "    <tr>\n",
       "      <th>2</th>\n",
       "      <td>S Gallagher</td>\n",
       "      <td>NaN</td>\n",
       "      <td>NaN</td>\n",
       "      <td>NaN</td>\n",
       "      <td>NaN</td>\n",
       "      <td>NaN</td>\n",
       "      <td>NaN</td>\n",
       "    </tr>\n",
       "    <tr>\n",
       "      <th>3</th>\n",
       "      <td>jamanetwork.com</td>\n",
       "      <td>NaN</td>\n",
       "      <td>NaN</td>\n",
       "      <td>NaN</td>\n",
       "      <td>NaN</td>\n",
       "      <td>NaN</td>\n",
       "      <td>NaN</td>\n",
       "    </tr>\n",
       "    <tr>\n",
       "      <th>4</th>\n",
       "      <td>JAMA network…</td>\n",
       "      <td>NaN</td>\n",
       "      <td>NaN</td>\n",
       "      <td>NaN</td>\n",
       "      <td>NaN</td>\n",
       "      <td>NaN</td>\n",
       "      <td>NaN</td>\n",
       "    </tr>\n",
       "    <tr>\n",
       "      <th>5</th>\n",
       "      <td>https://jamanetwork.com/journals/jamanetworkop...</td>\n",
       "      <td>NaN</td>\n",
       "      <td>NaN</td>\n",
       "      <td>NaN</td>\n",
       "      <td>NaN</td>\n",
       "      <td>NaN</td>\n",
       "      <td>NaN</td>\n",
       "    </tr>\n",
       "  </tbody>\n",
       "</table>\n",
       "</div>"
      ],
      "text/plain": [
       "                                                   0 first_author link  \\\n",
       "0  Association of a polygenic risk score with bre...          NaN  NaN   \n",
       "1                                               2020          NaN  NaN   \n",
       "2                                        S Gallagher          NaN  NaN   \n",
       "3                                    jamanetwork.com          NaN  NaN   \n",
       "4                                      JAMA network…          NaN  NaN   \n",
       "5  https://jamanetwork.com/journals/jamanetworkop...          NaN  NaN   \n",
       "\n",
       "  source_name source_site title year  \n",
       "0         NaN         NaN   NaN  NaN  \n",
       "1         NaN         NaN   NaN  NaN  \n",
       "2         NaN         NaN   NaN  NaN  \n",
       "3         NaN         NaN   NaN  NaN  \n",
       "4         NaN         NaN   NaN  NaN  \n",
       "5         NaN         NaN   NaN  NaN  "
      ]
     },
     "execution_count": 105,
     "metadata": {},
     "output_type": "execute_result"
    }
   ],
   "source": [
    "import pandas as pd\n",
    "#df = pd.DataFrame(columns=['title', 'year', 'first_author', 'source_site', 'source_name', 'link'])\n",
    "df = []\n",
    "for \n",
    "df = df.append(pd.DataFrame(x))\n",
    "df"
   ]
  },
  {
   "cell_type": "code",
   "execution_count": 100,
   "metadata": {},
   "outputs": [
    {
     "data": {
      "text/html": [
       "<div>\n",
       "<style scoped>\n",
       "    .dataframe tbody tr th:only-of-type {\n",
       "        vertical-align: middle;\n",
       "    }\n",
       "\n",
       "    .dataframe tbody tr th {\n",
       "        vertical-align: top;\n",
       "    }\n",
       "\n",
       "    .dataframe thead th {\n",
       "        text-align: right;\n",
       "    }\n",
       "</style>\n",
       "<table border=\"1\" class=\"dataframe\">\n",
       "  <thead>\n",
       "    <tr style=\"text-align: right;\">\n",
       "      <th></th>\n",
       "      <th>0</th>\n",
       "      <th>first_author</th>\n",
       "      <th>link</th>\n",
       "      <th>source_name</th>\n",
       "      <th>source_site</th>\n",
       "      <th>title</th>\n",
       "      <th>year</th>\n",
       "    </tr>\n",
       "  </thead>\n",
       "  <tbody>\n",
       "    <tr>\n",
       "      <th>0</th>\n",
       "      <td>Association of a polygenic risk score with bre...</td>\n",
       "      <td>NaN</td>\n",
       "      <td>NaN</td>\n",
       "      <td>NaN</td>\n",
       "      <td>NaN</td>\n",
       "      <td>NaN</td>\n",
       "      <td>NaN</td>\n",
       "    </tr>\n",
       "    <tr>\n",
       "      <th>1</th>\n",
       "      <td>2020</td>\n",
       "      <td>NaN</td>\n",
       "      <td>NaN</td>\n",
       "      <td>NaN</td>\n",
       "      <td>NaN</td>\n",
       "      <td>NaN</td>\n",
       "      <td>NaN</td>\n",
       "    </tr>\n",
       "    <tr>\n",
       "      <th>2</th>\n",
       "      <td>S Gallagher</td>\n",
       "      <td>NaN</td>\n",
       "      <td>NaN</td>\n",
       "      <td>NaN</td>\n",
       "      <td>NaN</td>\n",
       "      <td>NaN</td>\n",
       "      <td>NaN</td>\n",
       "    </tr>\n",
       "    <tr>\n",
       "      <th>3</th>\n",
       "      <td>jamanetwork.com</td>\n",
       "      <td>NaN</td>\n",
       "      <td>NaN</td>\n",
       "      <td>NaN</td>\n",
       "      <td>NaN</td>\n",
       "      <td>NaN</td>\n",
       "      <td>NaN</td>\n",
       "    </tr>\n",
       "    <tr>\n",
       "      <th>4</th>\n",
       "      <td>JAMA network…</td>\n",
       "      <td>NaN</td>\n",
       "      <td>NaN</td>\n",
       "      <td>NaN</td>\n",
       "      <td>NaN</td>\n",
       "      <td>NaN</td>\n",
       "      <td>NaN</td>\n",
       "    </tr>\n",
       "    <tr>\n",
       "      <th>5</th>\n",
       "      <td>https://jamanetwork.com/journals/jamanetworkop...</td>\n",
       "      <td>NaN</td>\n",
       "      <td>NaN</td>\n",
       "      <td>NaN</td>\n",
       "      <td>NaN</td>\n",
       "      <td>NaN</td>\n",
       "      <td>NaN</td>\n",
       "    </tr>\n",
       "  </tbody>\n",
       "</table>\n",
       "</div>"
      ],
      "text/plain": [
       "                                                   0 first_author link  \\\n",
       "0  Association of a polygenic risk score with bre...          NaN  NaN   \n",
       "1                                               2020          NaN  NaN   \n",
       "2                                        S Gallagher          NaN  NaN   \n",
       "3                                    jamanetwork.com          NaN  NaN   \n",
       "4                                      JAMA network…          NaN  NaN   \n",
       "5  https://jamanetwork.com/journals/jamanetworkop...          NaN  NaN   \n",
       "\n",
       "  source_name source_site title year  \n",
       "0         NaN         NaN   NaN  NaN  \n",
       "1         NaN         NaN   NaN  NaN  \n",
       "2         NaN         NaN   NaN  NaN  \n",
       "3         NaN         NaN   NaN  NaN  \n",
       "4         NaN         NaN   NaN  NaN  \n",
       "5         NaN         NaN   NaN  NaN  "
      ]
     },
     "execution_count": 100,
     "metadata": {},
     "output_type": "execute_result"
    }
   ],
   "source": []
  },
  {
   "cell_type": "code",
   "execution_count": null,
   "metadata": {},
   "outputs": [],
   "source": []
  }
 ],
 "metadata": {
  "kernelspec": {
   "display_name": "Python 3",
   "language": "python",
   "name": "python3"
  },
  "language_info": {
   "codemirror_mode": {
    "name": "ipython",
    "version": 3
   },
   "file_extension": ".py",
   "mimetype": "text/x-python",
   "name": "python",
   "nbconvert_exporter": "python",
   "pygments_lexer": "ipython3",
   "version": "3.7.6"
  }
 },
 "nbformat": 4,
 "nbformat_minor": 4
}
