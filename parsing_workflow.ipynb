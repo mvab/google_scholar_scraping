{
 "cells": [
  {
   "cell_type": "code",
   "execution_count": 18,
   "metadata": {},
   "outputs": [],
   "source": [
    "from bs4 import BeautifulSoup\n",
    "import requests\n",
    "import pandas as pd\n",
    "\n"
   ]
  },
  {
   "cell_type": "markdown",
   "metadata": {},
   "source": [
    "### Plan\n",
    "\n",
    "- write function to get soup from each page (i.e. 10 results)\n",
    "    - for each article, extract: title, link, year, site, first author\n",
    "    - NB if returns empty page, stop the for loop\n",
    "- do this for 3 links: MRz, MRs, BC\n",
    "    - exclude all articles that are not in BC (all papers citing THE paper but are not actually on BC)"
   ]
  },
  {
   "cell_type": "code",
   "execution_count": 60,
   "metadata": {},
   "outputs": [],
   "source": [
    "def scrape_url(url):\n",
    "    # get header: http://myhttpheader.com/\n",
    "    headers = {'User-Agent':\n",
    "           'Mozilla/5.0 (Macintosh; Intel Mac OS X 10_15_7) AppleWebKit/537.36 (KHTML, like Gecko) Chrome/92.0.4515.115 Safari/537.36'}\n",
    "\n",
    "    response = requests.get(url,headers=headers)\n",
    "    soup = BeautifulSoup(response.content,'lxml')\n",
    "    \n",
    "  \n",
    "    df_list = parse_soup(soup)\n",
    "    return df_list\n",
    "    \n",
    "def parse_soup(soup):\n",
    "    df_list = []\n",
    "    \n",
    "    num_articles = len(soup.select('[data-lid]'))\n",
    "    \n",
    "    for item in soup.select('[data-lid]'):\n",
    "        try:\n",
    "            # extarct from HTML\n",
    "            title = [item.select('h3')[0].get_text()]\n",
    "            link = [item.select('a')[0]['href']]\n",
    "            abstract = [item.select('.gs_rs')[0].get_text()]\n",
    "            info = item.select('.gs_a')[0].get_text()\n",
    "            \n",
    "            # parse info\n",
    "            info_split = info.split(\"-\")\n",
    "            journal_year = info_split[1].split(\", \")\n",
    "            first_author = [info_split[0].split(\", \")[0]]\n",
    "        \n",
    "            info_list = [*info_split, *journal_year , *first_author]\n",
    "            info_list = [x.strip(' ') for x in info_list]\n",
    "            info_list = [x.replace('\\xa0', \"\") for x in info_list]\n",
    "            article = [*title, info_list[4], info_list[5], info_list[2], info_list[3],  *link]\n",
    "\n",
    "            df_list = df_list.append(article)  ##### WHY IS THIS NOT WORKING!!!?\n",
    "            print(df_list)\n",
    "            \n",
    "        except Exception as e:\n",
    "            #raise e \n",
    "            print('==cant parse this soup')\n",
    "            \n",
    "          \n",
    "    return(df_list)\n",
    "            \n",
    "            "
   ]
  },
  {
   "cell_type": "code",
   "execution_count": 61,
   "metadata": {},
   "outputs": [
    {
     "name": "stdout",
     "output_type": "stream",
     "text": [
      "None\n",
      "==cant parse this soup\n",
      "==cant parse this soup\n",
      "==cant parse this soup\n",
      "==cant parse this soup\n",
      "==cant parse this soup\n",
      "==cant parse this soup\n",
      "==cant parse this soup\n",
      "==cant parse this soup\n",
      "==cant parse this soup\n"
     ]
    }
   ],
   "source": [
    "url='https://scholar.google.com/scholar?start=20&q=mendelian+randomization&hl=en&as_sdt=2005&sciodt=0,5&cites=6613969377995102680&scipsc=1'\n",
    "df_list = scrape_url(url)\n",
    "df_list\n",
    "#df = pd.DataFrame(df_list, columns=['title', 'year', 'first_author', 'source_site', 'source_name', 'link'])\n",
    "#df"
   ]
  },
  {
   "cell_type": "code",
   "execution_count": 59,
   "metadata": {},
   "outputs": [],
   "source": [
    "df_list"
   ]
  },
  {
   "cell_type": "code",
   "execution_count": null,
   "metadata": {},
   "outputs": [],
   "source": []
  }
 ],
 "metadata": {
  "kernelspec": {
   "display_name": "Python 3",
   "language": "python",
   "name": "python3"
  },
  "language_info": {
   "codemirror_mode": {
    "name": "ipython",
    "version": 3
   },
   "file_extension": ".py",
   "mimetype": "text/x-python",
   "name": "python",
   "nbconvert_exporter": "python",
   "pygments_lexer": "ipython3",
   "version": "3.7.6"
  }
 },
 "nbformat": 4,
 "nbformat_minor": 4
}
